{
 "cells": [
  {
   "cell_type": "code",
   "execution_count": 13,
   "metadata": {},
   "outputs": [
    {
     "name": "stderr",
     "output_type": "stream",
     "text": [
      "/var/folders/n_/4p37f261177fmjpv4kt7x33m0000gn/T/ipykernel_48023/1363643527.py:33: FutureWarning: You are using `torch.load` with `weights_only=False` (the current default value), which uses the default pickle module implicitly. It is possible to construct malicious pickle data which will execute arbitrary code during unpickling (See https://github.com/pytorch/pytorch/blob/main/SECURITY.md#untrusted-models for more details). In a future release, the default value for `weights_only` will be flipped to `True`. This limits the functions that could be executed during unpickling. Arbitrary objects will no longer be allowed to be loaded via this mode unless they are explicitly allowlisted by the user via `torch.serialization.add_safe_globals`. We recommend you start setting `weights_only=True` for any use case where you don't have full control of the loaded file. Please open an issue on GitHub for any issues related to this experimental feature.\n",
      "  model.load_state_dict(torch.load('final_model.pth'))\n"
     ]
    },
    {
     "data": {
      "text/plain": [
       "SoundCNN(\n",
       "  (conv1): Conv2d(1, 16, kernel_size=(3, 3), stride=(1, 1))\n",
       "  (conv2): Conv2d(16, 32, kernel_size=(3, 3), stride=(1, 1))\n",
       "  (conv3): Conv2d(32, 64, kernel_size=(3, 3), stride=(1, 1))\n",
       "  (dropout): Dropout(p=0.3, inplace=False)\n",
       "  (global_pool): AdaptiveAvgPool2d(output_size=(1, 1))\n",
       "  (fc1): Linear(in_features=64, out_features=128, bias=True)\n",
       "  (fc2): Linear(in_features=128, out_features=50, bias=True)\n",
       ")"
      ]
     },
     "execution_count": 13,
     "metadata": {},
     "output_type": "execute_result"
    }
   ],
   "source": [
    "import torch\n",
    "import torch.nn as nn\n",
    "import torch.nn.functional as F\n",
    "\n",
    "# Define the model architecture\n",
    "class SoundCNN(nn.Module):\n",
    "    def __init__(self):\n",
    "        super(SoundCNN, self).__init__()\n",
    "        self.conv1 = nn.Conv2d(1, 16, kernel_size=3)\n",
    "        self.conv2 = nn.Conv2d(16, 32, kernel_size=3)\n",
    "        self.conv3 = nn.Conv2d(32, 64, kernel_size=3)\n",
    "        self.dropout = nn.Dropout(0.3)\n",
    "        self.global_pool = nn.AdaptiveAvgPool2d((1, 1))\n",
    "        self.fc1 = nn.Linear(64 * 1 * 1, 128)\n",
    "        self.fc2 = nn.Linear(128, 50)\n",
    "\n",
    "    def forward(self, x):\n",
    "        x = F.relu(self.conv1(x))\n",
    "        x = F.max_pool2d(x, (2, 2))\n",
    "        x = F.relu(self.conv2(x))\n",
    "        x = F.max_pool2d(x, (2, 2))\n",
    "        x = F.relu(self.conv3(x))\n",
    "        x = self.global_pool(x)\n",
    "        x = self.dropout(x)\n",
    "        x = x.view(x.size(0), -1)  # Reshape x to [batch_size, 64*1*1]\n",
    "        x = F.relu(self.fc1(x))\n",
    "        x = self.dropout(x)\n",
    "        x = self.fc2(x)\n",
    "        return x\n",
    "\n",
    "# Load the model and weights\n",
    "model = SoundCNN()\n",
    "model.load_state_dict(torch.load('final_model.pth'))\n",
    "model.eval()  # Set the model to evaluation mode\n"
   ]
  },
  {
   "cell_type": "code",
   "execution_count": 14,
   "metadata": {},
   "outputs": [],
   "source": [
    "import librosa\n",
    "import numpy as np\n",
    "import torch\n",
    "\n"
   ]
  },
  {
   "cell_type": "code",
   "execution_count": 15,
   "metadata": {},
   "outputs": [],
   "source": [
    "# Define the feature extraction method (same as training)\n",
    "def extract_features(data, sr, max_frames=512):\n",
    "    mel_spectrogram = librosa.feature.melspectrogram(y=data, sr=sr, n_mels=128)\n",
    "    mel_spectrogram_db = librosa.power_to_db(mel_spectrogram, ref=np.max)\n",
    "    mel_spectrogram_db = pad_or_truncate_spectrogram(mel_spectrogram_db, max_frames)\n",
    "    mean = np.mean(mel_spectrogram_db)\n",
    "    std = np.std(mel_spectrogram_db)\n",
    "    mel_spectrogram_db = (mel_spectrogram_db - mean) / std\n",
    "    return mel_spectrogram_db\n",
    "\n",
    "# Padding or truncating the spectrogram to a fixed size\n",
    "def pad_or_truncate_spectrogram(spectrogram, max_frames):\n",
    "    if spectrogram.shape[1] < max_frames:\n",
    "        pad_width = max_frames - spectrogram.shape[1]\n",
    "        padded_spectrogram = np.pad(spectrogram, ((0, 0), (0, pad_width)), mode='constant')\n",
    "    else:\n",
    "        padded_spectrogram = spectrogram[:, :max_frames]\n",
    "    return padded_spectrogram\n",
    "\n"
   ]
  },
  {
   "cell_type": "code",
   "execution_count": 16,
   "metadata": {},
   "outputs": [
    {
     "name": "stdout",
     "output_type": "stream",
     "text": [
      "Sampling Rate: 22050 Hz\n"
     ]
    }
   ],
   "source": [
    "\n",
    "\n",
    "# Load the audio file\n",
    "audio_file = 'coding-fast-typing-on-keyboard-sound-247411.mp3'  # Replace with your audio file path\n",
    "audio_data, sampling_rate = librosa.load(audio_file)\n",
    "\n",
    "# Print the sampling rate\n",
    "print(f\"Sampling Rate: {sampling_rate} Hz\")"
   ]
  },
  {
   "cell_type": "code",
   "execution_count": 17,
   "metadata": {},
   "outputs": [],
   "source": [
    "\n",
    "data, sr = librosa.load(audio_file, sr=22050)\n",
    "features = extract_features(data, sr)\n",
    "features = features.reshape(1, 1, features.shape[0], features.shape[1])"
   ]
  },
  {
   "cell_type": "code",
   "execution_count": 18,
   "metadata": {},
   "outputs": [],
   "source": [
    "features_tensor = torch.tensor(features, dtype=torch.float32)"
   ]
  },
  {
   "cell_type": "code",
   "execution_count": 19,
   "metadata": {},
   "outputs": [],
   "source": [
    "import pandas as pd\n",
    "\n",
    "metadata = pd.read_csv('archive-3/esc50.csv')\n"
   ]
  },
  {
   "cell_type": "code",
   "execution_count": 20,
   "metadata": {},
   "outputs": [
    {
     "name": "stdout",
     "output_type": "stream",
     "text": [
      "Predicted Category: keyboard_typing\n"
     ]
    }
   ],
   "source": [
    "# Perform inference\n",
    "with torch.no_grad():\n",
    "    output = model(features_tensor)\n",
    "    _, predicted = torch.max(output, 1)\n",
    "\n",
    "# Map the predicted label to the corresponding category\n",
    "decoder = dict(zip(metadata['target'], metadata['category']))\n",
    "predicted_category = decoder[predicted.item()]\n",
    "print(f'Predicted Category: {predicted_category}')\n"
   ]
  },
  {
   "cell_type": "code",
   "execution_count": null,
   "metadata": {},
   "outputs": [],
   "source": []
  }
 ],
 "metadata": {
  "kernelspec": {
   "display_name": "env1",
   "language": "python",
   "name": "python3"
  },
  "language_info": {
   "codemirror_mode": {
    "name": "ipython",
    "version": 3
   },
   "file_extension": ".py",
   "mimetype": "text/x-python",
   "name": "python",
   "nbconvert_exporter": "python",
   "pygments_lexer": "ipython3",
   "version": "3.9.6"
  }
 },
 "nbformat": 4,
 "nbformat_minor": 2
}
